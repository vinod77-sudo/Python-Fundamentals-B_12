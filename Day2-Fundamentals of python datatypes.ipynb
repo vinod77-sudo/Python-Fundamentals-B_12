{
 "cells": [
  {
   "cell_type": "code",
   "execution_count": 2,
   "metadata": {},
   "outputs": [
    {
     "name": "stdout",
     "output_type": "stream",
     "text": [
      "15\n"
     ]
    }
   ],
   "source": [
    "x = 5\n",
    "y = 10\n",
    "\n",
    "z = x + y\n",
    "\n",
    "print(z)\n"
   ]
  },
  {
   "cell_type": "code",
   "execution_count": 4,
   "metadata": {},
   "outputs": [
    {
     "data": {
      "text/plain": [
       "int"
      ]
     },
     "execution_count": 4,
     "metadata": {},
     "output_type": "execute_result"
    }
   ],
   "source": [
    "xyz1 = 1000  # type is used to  verify the output type\n",
    "\n",
    "type(xyz1)"
   ]
  },
  {
   "cell_type": "code",
   "execution_count": 13,
   "metadata": {},
   "outputs": [
    {
     "name": "stdout",
     "output_type": "stream",
     "text": [
      "140\n"
     ]
    }
   ],
   "source": [
    "abc = 140   # here i'm checked with the abc$ = 140 then it showing syntax error \n",
    "\n",
    "print(abc)"
   ]
  },
  {
   "cell_type": "code",
   "execution_count": 20,
   "metadata": {},
   "outputs": [
    {
     "name": "stdout",
     "output_type": "stream",
     "text": [
      "vinod kumar\n",
      "Vinod Kumar\n",
      "VINOD KUMAR\n",
      "vinod kumar\n"
     ]
    }
   ],
   "source": [
    " name = \"vinod kumar\"\n",
    "    \n",
    "    \n",
    "print(name)  # not better approach to print the name\n",
    "\n",
    "print(name.title())  # convert into title case\n",
    "\n",
    "print(name.upper()) # connvert into upper case\n",
    "\n",
    "print(name.lower()) # convert into lower case\n"
   ]
  },
  {
   "cell_type": "code",
   "execution_count": 23,
   "metadata": {},
   "outputs": [
    {
     "name": "stdout",
     "output_type": "stream",
     "text": [
      "kumar akhil\n"
     ]
    }
   ],
   "source": [
    "f_name = 'kumar'     # using f place hoders\n",
    "\n",
    "l_name = 'akhil'\n",
    "\n",
    "full_name = f\"{f_name} {l_name}\"\n",
    "\n",
    "print(full_name)"
   ]
  },
  {
   "cell_type": "code",
   "execution_count": 26,
   "metadata": {},
   "outputs": [
    {
     "name": "stdout",
     "output_type": "stream",
     "text": [
      "Excellent work appreciated , and keep going vinod kumar\n"
     ]
    }
   ],
   "source": [
    "# enhancement of further coding\n",
    "f_name = 'vinod'\n",
    "l_name = 'kumar'\n",
    "\n",
    "full_name = f\"Excellent work appreciated , and keep going {f_name} {l_name}\"\n",
    "\n",
    "print(full_name)\n"
   ]
  },
  {
   "cell_type": "code",
   "execution_count": null,
   "metadata": {},
   "outputs": [],
   "source": []
  }
 ],
 "metadata": {
  "kernelspec": {
   "display_name": "Python 3",
   "language": "python",
   "name": "python3"
  },
  "language_info": {
   "codemirror_mode": {
    "name": "ipython",
    "version": 3
   },
   "file_extension": ".py",
   "mimetype": "text/x-python",
   "name": "python",
   "nbconvert_exporter": "python",
   "pygments_lexer": "ipython3",
   "version": "3.7.4"
  }
 },
 "nbformat": 4,
 "nbformat_minor": 2
}
