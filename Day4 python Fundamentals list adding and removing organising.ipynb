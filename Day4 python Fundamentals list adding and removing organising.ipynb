{
 "cells": [
  {
   "cell_type": "code",
   "execution_count": 1,
   "metadata": {},
   "outputs": [
    {
     "name": "stdout",
     "output_type": "stream",
     "text": [
      "Hello world\n"
     ]
    }
   ],
   "source": [
    "print('Hello world')"
   ]
  },
  {
   "cell_type": "code",
   "execution_count": 2,
   "metadata": {},
   "outputs": [
    {
     "name": "stdout",
     "output_type": "stream",
     "text": [
      "['vinod', 'divya', 'srinivas', 'hema', 'sharath', 'kohli']\n"
     ]
    }
   ],
   "source": [
    "students = ['vinod','divya','srinivas','hema','sharath','kohli']\n",
    "\n",
    "print(students)"
   ]
  },
  {
   "cell_type": "code",
   "execution_count": 15,
   "metadata": {},
   "outputs": [
    {
     "name": "stdout",
     "output_type": "stream",
     "text": [
      "['vinod', 'divya', 'srinivas', 'hema', 'sharath', 'kohli', 'anushka']\n"
     ]
    }
   ],
   "source": [
    "\n",
    "students.append('anushka')    # appending to alist ---append makes that add at end of the list\n",
    "print(students)\n",
    "\n"
   ]
  },
  {
   "cell_type": "code",
   "execution_count": 21,
   "metadata": {},
   "outputs": [
    {
     "name": "stdout",
     "output_type": "stream",
     "text": [
      "['vinod', 'harsha', 'srinivas', 'siri', 'hema', 'sharath', 'kohli', 'anushka']\n"
     ]
    }
   ],
   "source": [
    "students[1] = 'harsha'   # adding at the particular index position ,the particular value gets removed (replacement happend here)\n",
    "\n",
    "print(students)"
   ]
  },
  {
   "cell_type": "code",
   "execution_count": 20,
   "metadata": {},
   "outputs": [
    {
     "name": "stdout",
     "output_type": "stream",
     "text": [
      "['vinod', 'harsha', 'srinivas', 'siri', 'hema', 'sharath', 'kohli', 'anushka']\n"
     ]
    }
   ],
   "source": [
    "\n",
    "\n",
    "students.insert(3,'siri')   # without removing existing values (we add for the existing list )\n",
    "\n",
    "print(students)"
   ]
  },
  {
   "cell_type": "code",
   "execution_count": 23,
   "metadata": {},
   "outputs": [],
   "source": [
    "  del students[1]   # removing the elements from the list \n",
    "    \n",
    "    "
   ]
  },
  {
   "cell_type": "code",
   "execution_count": 24,
   "metadata": {},
   "outputs": [
    {
     "name": "stdout",
     "output_type": "stream",
     "text": [
      "['vinod', 'srinivas', 'siri', 'hema', 'sharath', 'kohli', 'anushka']\n"
     ]
    }
   ],
   "source": [
    "print(students)"
   ]
  },
  {
   "cell_type": "code",
   "execution_count": 26,
   "metadata": {},
   "outputs": [
    {
     "name": "stdout",
     "output_type": "stream",
     "text": [
      "['vinod', 'srinivas', 'siri', 'hema', 'sharath']\n"
     ]
    }
   ],
   "source": [
    "students.pop()     # removing elements using pop method (defaulty it will delete end of the list)\n",
    "\n",
    "print(students)"
   ]
  },
  {
   "cell_type": "code",
   "execution_count": 27,
   "metadata": {},
   "outputs": [
    {
     "name": "stdout",
     "output_type": "stream",
     "text": [
      "['vinod', 'srinivas', 'siri', 'sharath']\n"
     ]
    }
   ],
   "source": [
    "students.pop(3)    # removing elements for particular position\n",
    "\n",
    "print(students)"
   ]
  },
  {
   "cell_type": "code",
   "execution_count": 28,
   "metadata": {},
   "outputs": [
    {
     "name": "stdout",
     "output_type": "stream",
     "text": [
      "['naresh', 'naveen', 'raju', 'sai', 'vijay', 'pavan']\n"
     ]
    }
   ],
   "source": [
    "friends = ['naresh','naveen','raju','sai','vijay','pavan']   # orgnaising a list\n",
    "\n",
    "print(friends)\n"
   ]
  },
  {
   "cell_type": "code",
   "execution_count": 29,
   "metadata": {},
   "outputs": [
    {
     "name": "stdout",
     "output_type": "stream",
     "text": [
      "['sharath', 'siri', 'srinivas', 'vinod']\n"
     ]
    }
   ],
   "source": [
    "students.sort()    # by using sort method (this opearation is immutable)\n",
    "print(students)"
   ]
  },
  {
   "cell_type": "code",
   "execution_count": 30,
   "metadata": {},
   "outputs": [
    {
     "name": "stdout",
     "output_type": "stream",
     "text": [
      "the sorted list of friends is \n",
      "['naresh', 'naveen', 'pavan', 'raju', 'sai', 'vijay']\n"
     ]
    }
   ],
   "source": [
    "print(\"the sorted list of friends is \")  # the temperory sorted list \n",
    "\n",
    "print(sorted(friends))"
   ]
  },
  {
   "cell_type": "code",
   "execution_count": 31,
   "metadata": {},
   "outputs": [
    {
     "name": "stdout",
     "output_type": "stream",
     "text": [
      "['naresh', 'naveen', 'raju', 'sai', 'vijay', 'pavan']\n"
     ]
    }
   ],
   "source": [
    "print(friends)   # the main diff b/w sort and sorted is temp change and default change in the sorting"
   ]
  },
  {
   "cell_type": "code",
   "execution_count": null,
   "metadata": {},
   "outputs": [],
   "source": []
  }
 ],
 "metadata": {
  "kernelspec": {
   "display_name": "Python 3",
   "language": "python",
   "name": "python3"
  },
  "language_info": {
   "codemirror_mode": {
    "name": "ipython",
    "version": 3
   },
   "file_extension": ".py",
   "mimetype": "text/x-python",
   "name": "python",
   "nbconvert_exporter": "python",
   "pygments_lexer": "ipython3",
   "version": "3.7.4"
  }
 },
 "nbformat": 4,
 "nbformat_minor": 2
}
