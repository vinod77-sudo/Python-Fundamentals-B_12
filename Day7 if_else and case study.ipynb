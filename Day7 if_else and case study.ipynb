{
 "cells": [
  {
   "cell_type": "code",
   "execution_count": 1,
   "metadata": {},
   "outputs": [
    {
     "name": "stdout",
     "output_type": "stream",
     "text": [
      "Hello world of Python !\n"
     ]
    }
   ],
   "source": [
    "print(\"Hello world of Python !\")"
   ]
  },
  {
   "cell_type": "code",
   "execution_count": null,
   "metadata": {},
   "outputs": [],
   "source": [
    "# Accepting the user inputs\n",
    "\n",
    "username:\n",
    "emailid:\n",
    "contact_num:    \n",
    "    "
   ]
  },
  {
   "cell_type": "code",
   "execution_count": 2,
   "metadata": {},
   "outputs": [
    {
     "name": "stdout",
     "output_type": "stream",
     "text": [
      "Tell me something about and i will repeat back it for you !Hello everyone\n",
      "Hello everyone\n"
     ]
    }
   ],
   "source": [
    "#example below:\n",
    "\n",
    "message = input('Tell me something about and i will repeat back it for you !')\n",
    "\n",
    "print(message)"
   ]
  },
  {
   "cell_type": "code",
   "execution_count": 11,
   "metadata": {},
   "outputs": [
    {
     "name": "stdout",
     "output_type": "stream",
     "text": [
      "please enter your name:vinod\n",
      "\n",
      " Welcome back,vinod\n",
      "\n",
      "\t Welcome back,Vinod\n"
     ]
    }
   ],
   "source": [
    "# enhancement of the code\n",
    "\n",
    "name = input('please enter your name:')\n",
    "\n",
    "print(f\"\\n Welcome back,{name}\")\n",
    "\n",
    "print(f\"\\n\\t Welcome back,{name.title()}\")  # title case applied for name\n",
    "\n"
   ]
  },
  {
   "cell_type": "code",
   "execution_count": null,
   "metadata": {},
   "outputs": [],
   "source": [
    "# understanding the concept of if condition\n",
    "\n",
    "\n",
    "case study: Building a sample voting application\n",
    "     \n",
    "    Ground rules:>=18  --eligible for the vote\n",
    "                 <18   --not eligible  to vote,try next year"
   ]
  },
  {
   "cell_type": "code",
   "execution_count": 20,
   "metadata": {},
   "outputs": [
    {
     "name": "stdout",
     "output_type": "stream",
     "text": [
      "how old are you?21\n"
     ]
    },
    {
     "ename": "TypeError",
     "evalue": "'>=' not supported between instances of 'str' and 'int'",
     "output_type": "error",
     "traceback": [
      "\u001b[1;31m---------------------------------------------------------------------------\u001b[0m",
      "\u001b[1;31mTypeError\u001b[0m                                 Traceback (most recent call last)",
      "\u001b[1;32m<ipython-input-20-7cfdd3d0f100>\u001b[0m in \u001b[0;36m<module>\u001b[1;34m\u001b[0m\n\u001b[0;32m      1\u001b[0m \u001b[0mage\u001b[0m \u001b[1;33m=\u001b[0m\u001b[0minput\u001b[0m\u001b[1;33m(\u001b[0m\u001b[1;34m'how old are you?'\u001b[0m\u001b[1;33m)\u001b[0m\u001b[1;33m\u001b[0m\u001b[1;33m\u001b[0m\u001b[0m\n\u001b[0;32m      2\u001b[0m \u001b[1;33m\u001b[0m\u001b[0m\n\u001b[1;32m----> 3\u001b[1;33m \u001b[1;32mif\u001b[0m \u001b[0mage\u001b[0m\u001b[1;33m>=\u001b[0m\u001b[1;36m18\u001b[0m\u001b[1;33m:\u001b[0m\u001b[1;33m\u001b[0m\u001b[1;33m\u001b[0m\u001b[0m\n\u001b[0m\u001b[0;32m      4\u001b[0m     \u001b[0mprint\u001b[0m\u001b[1;33m(\u001b[0m\u001b[1;34m'you are eligible to vote'\u001b[0m\u001b[1;33m)\u001b[0m\u001b[1;33m\u001b[0m\u001b[1;33m\u001b[0m\u001b[0m\n\u001b[0;32m      5\u001b[0m \u001b[1;33m\u001b[0m\u001b[0m\n",
      "\u001b[1;31mTypeError\u001b[0m: '>=' not supported between instances of 'str' and 'int'"
     ]
    }
   ],
   "source": [
    "age =input('how old are you?')      # showing the type error because input method is defaulty gives string value\n",
    "\n",
    "if age>=18:\n",
    "    print('you are eligible to vote')\n",
    "    \n",
    "else:\n",
    "    print('you are not eligible to vote, try next year!')"
   ]
  },
  {
   "cell_type": "code",
   "execution_count": 24,
   "metadata": {},
   "outputs": [
    {
     "name": "stdout",
     "output_type": "stream",
     "text": [
      "how old are you ?15\n",
      "\n",
      "you are not eligible to vote,try for next year !\n"
     ]
    }
   ],
   "source": [
    "age = input('how old are you ?')\n",
    "\n",
    "age = int(age)      # typecasting :converting one datatype to another\n",
    "\n",
    "if age>=18:\n",
    "    print(\"\\nyou are elible to vote !\")\n",
    "else:\n",
    "    print(\"\\nyou are not eligible to vote,try for next year !\")"
   ]
  },
  {
   "cell_type": "code",
   "execution_count": 35,
   "metadata": {},
   "outputs": [
    {
     "name": "stdout",
     "output_type": "stream",
     "text": [
      "how old are you?12\n",
      "you are not eligible to vote,try next 6 years !\n"
     ]
    }
   ],
   "source": [
    "age = input('how old are you?')   #further enhancement of the code\n",
    "\n",
    "age=int(age)\n",
    "\n",
    "if age>=18:\n",
    "    print(\"you are eligible to vote\")\n",
    "else :\n",
    "    age =18-age\n",
    "    \n",
    "    a=str(age)\n",
    "    print(f\"you are not eligible to vote,try next {a} years !\")\n",
    "    \n",
    "    \n"
   ]
  },
  {
   "cell_type": "code",
   "execution_count": null,
   "metadata": {},
   "outputs": [],
   "source": []
  },
  {
   "cell_type": "code",
   "execution_count": null,
   "metadata": {},
   "outputs": [],
   "source": []
  }
 ],
 "metadata": {
  "kernelspec": {
   "display_name": "Python 3",
   "language": "python",
   "name": "python3"
  },
  "language_info": {
   "codemirror_mode": {
    "name": "ipython",
    "version": 3
   },
   "file_extension": ".py",
   "mimetype": "text/x-python",
   "name": "python",
   "nbconvert_exporter": "python",
   "pygments_lexer": "ipython3",
   "version": "3.7.4"
  }
 },
 "nbformat": 4,
 "nbformat_minor": 2
}
