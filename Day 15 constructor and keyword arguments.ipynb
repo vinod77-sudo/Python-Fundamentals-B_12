{
 "cells": [
  {
   "cell_type": "code",
   "execution_count": 1,
   "metadata": {},
   "outputs": [
    {
     "name": "stdout",
     "output_type": "stream",
     "text": [
      "Hello world of learning python on Day 15!!!\n"
     ]
    }
   ],
   "source": [
    "print(\"Hello world of learning python on Day 15!!!\")"
   ]
  },
  {
   "cell_type": "code",
   "execution_count": null,
   "metadata": {},
   "outputs": [],
   "source": [
    "Special methods of a Class:\n",
    "introduction to constructor***\n",
    "-----------------------------\n",
    "\n",
    "intializer/automatically invoke the attributes inside it!\n",
    "\n",
    "How to define a constructor\n",
    " def__init__# use double underscores"
   ]
  },
  {
   "cell_type": "code",
   "execution_count": 4,
   "metadata": {},
   "outputs": [],
   "source": [
    "class Dog:\n",
    "    \"\"\"A simple attempt to a model dog\"\"\"\n",
    "    def __init__(self,name,age):\n",
    "        self.name=name\n",
    "        self.age=age\n",
    "        print(\"suceesfully excicuted and call out\")\n",
    "    def intro(self):\n",
    "        \"\"\"Display the intro of dog\"\"\"\n",
    "        print(f\"the dog name is {self.name} and age is{self.age}\")\n",
    "    def sit(self):\n",
    "        \"\"\"simulate the sitting position\"\"\"\n",
    "        print(f'{self.name} is now sitting')\n",
    "    def roll_over(self):\n",
    "        \"\"\"simulate the dog rollover to respond comand\"\"\"\n",
    "        print(f\"{self.name} is rolled over\")"
   ]
  },
  {
   "cell_type": "code",
   "execution_count": 14,
   "metadata": {},
   "outputs": [
    {
     "name": "stdout",
     "output_type": "stream",
     "text": [
      "suceesfully excicuted and call out\n"
     ]
    }
   ],
   "source": [
    "dobj=Dog('sony',4)"
   ]
  },
  {
   "cell_type": "code",
   "execution_count": 15,
   "metadata": {},
   "outputs": [
    {
     "name": "stdout",
     "output_type": "stream",
     "text": [
      "the dog name is sony and age is4\n"
     ]
    }
   ],
   "source": [
    "dobj.intro()"
   ]
  },
  {
   "cell_type": "code",
   "execution_count": 16,
   "metadata": {},
   "outputs": [
    {
     "name": "stdout",
     "output_type": "stream",
     "text": [
      "sony is now sitting\n"
     ]
    }
   ],
   "source": [
    "dobj.sit()"
   ]
  },
  {
   "cell_type": "code",
   "execution_count": 17,
   "metadata": {},
   "outputs": [
    {
     "name": "stdout",
     "output_type": "stream",
     "text": [
      "sony is rolled over\n"
     ]
    }
   ],
   "source": [
    "dobj.roll_over()"
   ]
  },
  {
   "cell_type": "code",
   "execution_count": null,
   "metadata": {},
   "outputs": [],
   "source": [
    "#req:Parameters\n",
    "\n",
    "name,age\n",
    "\n",
    "# we doesn't know wheather what kind of parameters going to accept"
   ]
  },
  {
   "cell_type": "code",
   "execution_count": 18,
   "metadata": {},
   "outputs": [],
   "source": [
    "#req: Introduction to passing arbitary no of arguments\n",
    "\n",
    "def make_pizza(*toppings):\n",
    "    \"\"\"print the list of toppings that have been requested\"\"\"\n",
    "    print(toppings)"
   ]
  },
  {
   "cell_type": "code",
   "execution_count": 19,
   "metadata": {},
   "outputs": [
    {
     "name": "stdout",
     "output_type": "stream",
     "text": [
      "('olives', 'mushroom', 'tomato')\n"
     ]
    }
   ],
   "source": [
    "make_pizza('olives','mushroom','tomato')"
   ]
  },
  {
   "cell_type": "code",
   "execution_count": 20,
   "metadata": {},
   "outputs": [
    {
     "name": "stdout",
     "output_type": "stream",
     "text": [
      "('corn', 'tomato')\n"
     ]
    }
   ],
   "source": [
    "make_pizza('corn','tomato')"
   ]
  },
  {
   "cell_type": "code",
   "execution_count": 21,
   "metadata": {},
   "outputs": [],
   "source": [
    "# enhancement of the code:\n",
    "def make_pizza(*toppings):\n",
    "    \"\"\"print the list of toppings requested for the pizza\"\"\"\n",
    "    for topping in toppings:\n",
    "        print(topping)"
   ]
  },
  {
   "cell_type": "code",
   "execution_count": 22,
   "metadata": {},
   "outputs": [
    {
     "name": "stdout",
     "output_type": "stream",
     "text": [
      "corn\n",
      "tomato\n",
      "onion\n"
     ]
    }
   ],
   "source": [
    "make_pizza('corn','tomato','onion')"
   ]
  },
  {
   "cell_type": "code",
   "execution_count": 48,
   "metadata": {},
   "outputs": [],
   "source": [
    "def make_pizza(*toppings):\n",
    "    \"\"\"print the list of toppings requested for the pizza\"\"\"\n",
    "    print(f\"\\n Making the pizza with the following toppings:\")\n",
    "    for topping in toppings:\n",
    "          print(f\"   _  {topping}\")"
   ]
  },
  {
   "cell_type": "code",
   "execution_count": 49,
   "metadata": {},
   "outputs": [
    {
     "name": "stdout",
     "output_type": "stream",
     "text": [
      "\n",
      " Making the pizza with the following toppings:\n",
      "   _  corn\n",
      "   _  tomato\n",
      "   _  onion\n"
     ]
    }
   ],
   "source": [
    "make_pizza('corn','tomato','onion')"
   ]
  },
  {
   "cell_type": "code",
   "execution_count": 52,
   "metadata": {},
   "outputs": [],
   "source": [
    "# req: Define the size of the pizza as well\n",
    "\n",
    "def make_pizza(size,*toppings):\n",
    "    \"\"\"print the list of toppings are requested\"\"\"\n",
    "    print(f\"ordered {size} inch of pizza,with the toppings  {toppings}\")"
   ]
  },
  {
   "cell_type": "code",
   "execution_count": 53,
   "metadata": {},
   "outputs": [
    {
     "name": "stdout",
     "output_type": "stream",
     "text": [
      "ordered 16 inch of pizza,with the toppings  ('onion', 'tomato', 'olives')\n"
     ]
    }
   ],
   "source": [
    "make_pizza(16,'onion','tomato','olives')"
   ]
  },
  {
   "cell_type": "code",
   "execution_count": null,
   "metadata": {},
   "outputs": [],
   "source": []
  },
  {
   "cell_type": "code",
   "execution_count": null,
   "metadata": {},
   "outputs": [],
   "source": []
  }
 ],
 "metadata": {
  "kernelspec": {
   "display_name": "Python 3",
   "language": "python",
   "name": "python3"
  },
  "language_info": {
   "codemirror_mode": {
    "name": "ipython",
    "version": 3
   },
   "file_extension": ".py",
   "mimetype": "text/x-python",
   "name": "python",
   "nbconvert_exporter": "python",
   "pygments_lexer": "ipython3",
   "version": "3.7.4"
  }
 },
 "nbformat": 4,
 "nbformat_minor": 2
}
