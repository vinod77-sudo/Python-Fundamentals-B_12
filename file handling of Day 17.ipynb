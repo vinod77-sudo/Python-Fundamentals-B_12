{
 "cells": [
  {
   "cell_type": "code",
   "execution_count": 1,
   "metadata": {},
   "outputs": [
    {
     "name": "stdout",
     "output_type": "stream",
     "text": [
      "Hello world of python of Day 17!\n"
     ]
    }
   ],
   "source": [
    "print(\"Hello world of python of Day 17!\")"
   ]
  },
  {
   "cell_type": "code",
   "execution_count": 22,
   "metadata": {},
   "outputs": [
    {
     "name": "stdout",
     "output_type": "stream",
     "text": [
      "1 2 3 4 8 9\n",
      "sum of the array is 27\n"
     ]
    }
   ],
   "source": [
    "   # sum of the elements inside array\n",
    "arr=list(map(int,input().split()))\n",
    "\n",
    "sum=0\n",
    "\n",
    "for i in range(0,len(arr)):\n",
    "    sum=sum+arr[i]\n",
    "print(f'sum of the array is {sum}')\n"
   ]
  },
  {
   "cell_type": "code",
   "execution_count": 24,
   "metadata": {},
   "outputs": [
    {
     "name": "stdout",
     "output_type": "stream",
     "text": [
      "Hi how are you\n",
      "\n",
      "we all doing well in the python sessions everyday\n"
     ]
    }
   ],
   "source": [
    "with open('testpython.txt') as file_obj:   # file_obj as alias name\n",
    "    contents=file_obj.read()\n",
    "    print(contents)"
   ]
  },
  {
   "cell_type": "code",
   "execution_count": 25,
   "metadata": {},
   "outputs": [
    {
     "name": "stdout",
     "output_type": "stream",
     "text": [
      "50\n",
      "40\n",
      "90\n",
      "41\n",
      "52\n"
     ]
    }
   ],
   "source": [
    "with open('digits.txt') as file_obj:\n",
    "    content=file_obj.read()\n",
    "    print(content)"
   ]
  },
  {
   "cell_type": "code",
   "execution_count": 26,
   "metadata": {},
   "outputs": [
    {
     "name": "stdout",
     "output_type": "stream",
     "text": [
      "50\n",
      "\n",
      "40\n",
      "\n",
      "90\n",
      "\n",
      "41\n",
      "\n",
      "52\n"
     ]
    }
   ],
   "source": [
    "with open(\"digits.txt\") as file_obj:  # using the loops when we have req for the with spaces inbetween we have add any thing\n",
    "    for i in file_obj:\n",
    "        print(i)"
   ]
  },
  {
   "cell_type": "code",
   "execution_count": 38,
   "metadata": {},
   "outputs": [],
   "source": [
    "# writing the data and overwrite the data \n",
    "\n",
    "with open('testpython.txt','w') as file_obj:\n",
    "    file_obj.write('python class alll are doing well')\n"
   ]
  },
  {
   "cell_type": "code",
   "execution_count": 43,
   "metadata": {},
   "outputs": [
    {
     "name": "stdout",
     "output_type": "stream",
     "text": [
      "python class alll are doing well\n"
     ]
    }
   ],
   "source": [
    "with open('testpython.txt') as file_obj:   # now the text should be overwritten\n",
    "    content= file_obj.read()\n",
    "    print(content)"
   ]
  },
  {
   "cell_type": "code",
   "execution_count": null,
   "metadata": {},
   "outputs": [],
   "source": []
  }
 ],
 "metadata": {
  "kernelspec": {
   "display_name": "Python 3",
   "language": "python",
   "name": "python3"
  },
  "language_info": {
   "codemirror_mode": {
    "name": "ipython",
    "version": 3
   },
   "file_extension": ".py",
   "mimetype": "text/x-python",
   "name": "python",
   "nbconvert_exporter": "python",
   "pygments_lexer": "ipython3",
   "version": "3.7.4"
  }
 },
 "nbformat": 4,
 "nbformat_minor": 2
}
