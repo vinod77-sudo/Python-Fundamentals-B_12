{
 "cells": [
  {
   "cell_type": "code",
   "execution_count": 30,
   "metadata": {},
   "outputs": [
    {
     "name": "stdout",
     "output_type": "stream",
     "text": [
      "Hello world of python of Day 10 !\n"
     ]
    }
   ],
   "source": [
    "print(\"Hello world of python of Day 10 !\")"
   ]
  },
  {
   "cell_type": "code",
   "execution_count": null,
   "metadata": {},
   "outputs": [],
   "source": [
    "#introduction to the for loops in dictionary \n",
    "\n",
    "looping through the key value pairs"
   ]
  },
  {
   "cell_type": "code",
   "execution_count": 4,
   "metadata": {},
   "outputs": [
    {
     "name": "stdout",
     "output_type": "stream",
     "text": [
      "{'username': 'john77', 'first_name': 'mark', 'last_name': 'john'}\n"
     ]
    }
   ],
   "source": [
    "user_0={'username':'john77',\n",
    "        \n",
    "        'first_name':'mark',\n",
    "        \n",
    "       'last_name':'john',\n",
    "       \n",
    "       }\n",
    "\n",
    "print(user_0)"
   ]
  },
  {
   "cell_type": "code",
   "execution_count": 5,
   "metadata": {},
   "outputs": [
    {
     "data": {
      "text/plain": [
       "dict"
      ]
     },
     "execution_count": 5,
     "metadata": {},
     "output_type": "execute_result"
    }
   ],
   "source": [
    "type(user_0)"
   ]
  },
  {
   "cell_type": "code",
   "execution_count": 11,
   "metadata": {},
   "outputs": [
    {
     "name": "stdout",
     "output_type": "stream",
     "text": [
      "\n",
      " key:username\n",
      "\n",
      " value:john77\n",
      "\n",
      " key:first_name\n",
      "\n",
      " value:mark\n",
      "\n",
      " key:last_name\n",
      "\n",
      " value:john\n"
     ]
    }
   ],
   "source": [
    "for key,value in user_0.items():\n",
    "    print(f\"\\n key:{key}\")\n",
    "    print(f\"\\n value:{value}\")"
   ]
  },
  {
   "cell_type": "code",
   "execution_count": null,
   "metadata": {},
   "outputs": [],
   "source": [
    "for x,y in user_0.items():    # x,y are temp variables\n",
    "    \n",
    "    print(f\"key:{x}\")  # key --predefined by using f strings\n",
    "\n",
    "    print(f\"value:{y}\") # value --predefined by using f strings"
   ]
  },
  {
   "cell_type": "code",
   "execution_count": 46,
   "metadata": {},
   "outputs": [
    {
     "name": "stdout",
     "output_type": "stream",
     "text": [
      "Username\n",
      "First_Name\n",
      "Last_Name\n"
     ]
    }
   ],
   "source": [
    "for name in user_0.keys():     # req is to get only the keys  from the loop of dict\n",
    "    print(name.title())"
   ]
  },
  {
   "cell_type": "code",
   "execution_count": 16,
   "metadata": {},
   "outputs": [
    {
     "name": "stdout",
     "output_type": "stream",
     "text": [
      "John77\n",
      "Mark\n",
      "John\n"
     ]
    }
   ],
   "source": [
    "for value in user_0.values():    # req is to geet the values from the dict\n",
    "    print(value.title())"
   ]
  },
  {
   "cell_type": "code",
   "execution_count": null,
   "metadata": {},
   "outputs": [],
   "source": [
    "# introduction to while loops\n",
    "\n",
    "def:As long as the certain condition is true , it will excicute\n",
    "    \n",
    "    "
   ]
  },
  {
   "cell_type": "code",
   "execution_count": 29,
   "metadata": {},
   "outputs": [
    {
     "name": "stdout",
     "output_type": "stream",
     "text": [
      "1\n",
      "2\n",
      "3\n",
      "4\n",
      "5\n",
      "6\n",
      "7\n"
     ]
    }
   ],
   "source": [
    "current_num =1      # strating point\n",
    "\n",
    "while current_num <=7:  # validating the code part\n",
    "    print(current_num)\n",
    "    current_num +=1   # you are incrementally increasing the value by +1\n",
    "    \n",
    "    # for such value upto the iteration will happen (those conditions we go with while)\n",
    "\n"
   ]
  },
  {
   "cell_type": "code",
   "execution_count": 32,
   "metadata": {},
   "outputs": [
    {
     "name": "stdout",
     "output_type": "stream",
     "text": [
      "Hello\n"
     ]
    }
   ],
   "source": [
    "#introduction to python functions !!!\n",
    "\n",
    "# code reusability  --code is written once and read multiple of times\n",
    "\n",
    "\n",
    "def greet_user():      # function name\n",
    "    \"\"\"Display a simple greeting\"\"\"   # doc string commenting inside a function\n",
    "    print(\"Hello\")\n",
    "greet_user()   # function call\n",
    "\n"
   ]
  },
  {
   "cell_type": "code",
   "execution_count": 35,
   "metadata": {},
   "outputs": [
    {
     "name": "stdout",
     "output_type": "stream",
     "text": [
      "welcome back again,Vinod\n"
     ]
    }
   ],
   "source": [
    "  def greet_use(username):\n",
    "        \"\"\"Display a simple greeting to user\"\"\"\n",
    "        print(f\"welcome back again,{username.title()}\")\n",
    "greet_use('vinod')"
   ]
  },
  {
   "cell_type": "code",
   "execution_count": null,
   "metadata": {},
   "outputs": [],
   "source": [
    "\n",
    "\n",
    "    \n",
    "    \n",
    "\n"
   ]
  },
  {
   "cell_type": "code",
   "execution_count": null,
   "metadata": {},
   "outputs": [],
   "source": []
  },
  {
   "cell_type": "code",
   "execution_count": null,
   "metadata": {},
   "outputs": [],
   "source": []
  }
 ],
 "metadata": {
  "kernelspec": {
   "display_name": "Python 3",
   "language": "python",
   "name": "python3"
  },
  "language_info": {
   "codemirror_mode": {
    "name": "ipython",
    "version": 3
   },
   "file_extension": ".py",
   "mimetype": "text/x-python",
   "name": "python",
   "nbconvert_exporter": "python",
   "pygments_lexer": "ipython3",
   "version": "3.7.4"
  }
 },
 "nbformat": 4,
 "nbformat_minor": 2
}
