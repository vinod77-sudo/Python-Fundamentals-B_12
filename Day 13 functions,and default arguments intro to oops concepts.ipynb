{
 "cells": [
  {
   "cell_type": "code",
   "execution_count": 1,
   "metadata": {},
   "outputs": [
    {
     "name": "stdout",
     "output_type": "stream",
     "text": [
      "Hello world of python Day 13 !!!!\n"
     ]
    }
   ],
   "source": [
    "print(\"Hello world of python Day 13 !!!!\")"
   ]
  },
  {
   "cell_type": "code",
   "execution_count": 2,
   "metadata": {},
   "outputs": [],
   "source": [
    "def describe_pet(animal_type,pet_name):\n",
    "    \"\"\"Display the information about pet\"\"\"\n",
    "    print(f\"\\n I have a {animal_type}\")\n",
    "    print(f\"\\n my {animal_type}'s name is {pet_name}\")\n",
    "          \n",
    "          \n",
    "\n"
   ]
  },
  {
   "cell_type": "code",
   "execution_count": 4,
   "metadata": {},
   "outputs": [
    {
     "name": "stdout",
     "output_type": "stream",
     "text": [
      "\n",
      " I have a dog\n",
      "\n",
      " my dog's name is browny\n"
     ]
    }
   ],
   "source": [
    "describe_pet('dog','browny')"
   ]
  },
  {
   "cell_type": "code",
   "execution_count": 5,
   "metadata": {},
   "outputs": [
    {
     "ename": "TypeError",
     "evalue": "describe_pet() missing 1 required positional argument: 'pet_name'",
     "output_type": "error",
     "traceback": [
      "\u001b[1;31m---------------------------------------------------------------------------\u001b[0m",
      "\u001b[1;31mTypeError\u001b[0m                                 Traceback (most recent call last)",
      "\u001b[1;32m<ipython-input-5-41916f1840fa>\u001b[0m in \u001b[0;36m<module>\u001b[1;34m\u001b[0m\n\u001b[1;32m----> 1\u001b[1;33m \u001b[0mdescribe_pet\u001b[0m\u001b[1;33m(\u001b[0m\u001b[1;34m'rex'\u001b[0m\u001b[1;33m)\u001b[0m\u001b[1;33m\u001b[0m\u001b[1;33m\u001b[0m\u001b[0m\n\u001b[0m",
      "\u001b[1;31mTypeError\u001b[0m: describe_pet() missing 1 required positional argument: 'pet_name'"
     ]
    }
   ],
   "source": [
    "describe_pet('rex')    # error positional argument missing for pet_name"
   ]
  },
  {
   "cell_type": "code",
   "execution_count": null,
   "metadata": {},
   "outputs": [],
   "source": [
    "req: i usually pass the pet_name,here the default arguments come in to the picture"
   ]
  },
  {
   "cell_type": "code",
   "execution_count": 12,
   "metadata": {},
   "outputs": [
    {
     "ename": "SyntaxError",
     "evalue": "non-default argument follows default argument (<ipython-input-12-7911e4a4af0c>, line 4)",
     "output_type": "error",
     "traceback": [
      "\u001b[1;36m  File \u001b[1;32m\"<ipython-input-12-7911e4a4af0c>\"\u001b[1;36m, line \u001b[1;32m4\u001b[0m\n\u001b[1;33m    def describe_pet(animal_type='dog',pet_name):\u001b[0m\n\u001b[1;37m                    ^\u001b[0m\n\u001b[1;31mSyntaxError\u001b[0m\u001b[1;31m:\u001b[0m non-default argument follows default argument\n"
     ]
    }
   ],
   "source": [
    "# the major point to keep in mind is that when declare default arguments always ,\n",
    "# should be declared at the end in the parameter decalaration \n",
    "\n",
    "def describe_pet(animal_type='dog',pet_name):    \n",
    "    \"\"\"Dispaly the info about pet\"\"\"            \n",
    "    print(f\"\\n I have {animaL_type}\")\n",
    "    print(f\"\\n my {animal_type}'s name is {pet_name}\")"
   ]
  },
  {
   "cell_type": "code",
   "execution_count": 30,
   "metadata": {},
   "outputs": [],
   "source": [
    "def describe_pet(pet_name,animal_type='dog'):\n",
    "    \"\"\"Display the information about your pet\"\"\"\n",
    "    print(f\"\\n I have {animal_type}\")\n",
    "    print(f\"\\n my {animal_type}'s  name is {pet_name}\")"
   ]
  },
  {
   "cell_type": "code",
   "execution_count": 14,
   "metadata": {},
   "outputs": [
    {
     "name": "stdout",
     "output_type": "stream",
     "text": [
      "\n",
      " I have dog\n",
      "\n",
      " my dog's  name is rex\n"
     ]
    }
   ],
   "source": [
    "describe_pet('rex')"
   ]
  },
  {
   "cell_type": "code",
   "execution_count": 15,
   "metadata": {},
   "outputs": [
    {
     "name": "stdout",
     "output_type": "stream",
     "text": [
      "\n",
      " I have pegion\n",
      "\n",
      " my pegion's  name is janu\n"
     ]
    }
   ],
   "source": [
    "# even though when we declare as default arguments when we have to give both arguments for animal_type, and pet_name it can \n",
    "# explicitly take from the function calling only(the arguments)\n",
    "describe_pet('janu','pegion')"
   ]
  },
  {
   "cell_type": "code",
   "execution_count": 28,
   "metadata": {},
   "outputs": [],
   "source": [
    "# return values:\n",
    "\n",
    "def get_formated_name(first_name,last_name):\n",
    "    \"\"\"Dispaly a full name neatley formated\"\"\"\n",
    "    full_name=f\"{first_name} {last_name}\"\n",
    "    return full_name.title()"
   ]
  },
  {
   "cell_type": "code",
   "execution_count": 29,
   "metadata": {},
   "outputs": [
    {
     "data": {
      "text/plain": [
       "'Vinod Kumar'"
      ]
     },
     "execution_count": 29,
     "metadata": {},
     "output_type": "execute_result"
    }
   ],
   "source": [
    "get_formated_name('vinod','kumar')"
   ]
  },
  {
   "cell_type": "code",
   "execution_count": null,
   "metadata": {},
   "outputs": [],
   "source": [
    "***Introduction to Python Classes:\n",
    "    \n",
    "    Class is nothning but a blue print of set of instructions to be followed and worked up on\n",
    "\n",
    "    class ---->\n",
    "    methods---> a function written inside a class is method\n",
    "    \n",
    "    attributes/periods ---> a variable written inside class is attributes.\n",
    "    \n",
    "    objects/instances----->instantation of object -->to get access the methods inside a class these can utilised\n",
    "    \n",
    "    \n",
    "    rules inside a class:\n",
    "   =========================\n",
    "methods  ---> assign it to self\n",
    "self ------->nothing but temp placeholder for an object\n",
    "    \n",
    "    "
   ]
  },
  {
   "cell_type": "code",
   "execution_count": null,
   "metadata": {},
   "outputs": [],
   "source": [
    " req:\n",
    " ====\n",
    "\n",
    "     create class Name\n",
    "        1.it need to the name of the user in the argument\n",
    "        2.display the username\n",
    "        3.greeting to user\n",
    "        "
   ]
  },
  {
   "cell_type": "raw",
   "metadata": {},
   "source": [
    " \n",
    " \n",
    "\n",
    "\n",
    "\n"
   ]
  },
  {
   "cell_type": "code",
   "execution_count": 32,
   "metadata": {},
   "outputs": [
    {
     "name": "stdout",
     "output_type": "stream",
     "text": [
      "\n",
      " I have dog\n",
      "\n",
      " my dog's  name is snophy\n"
     ]
    }
   ],
   "source": [
    "describe_pet('snophy')"
   ]
  },
  {
   "cell_type": "code",
   "execution_count": 56,
   "metadata": {},
   "outputs": [],
   "source": [
    "class Name:\n",
    "    \"\"\"Decalaring functionally\"\"\"\n",
    "    def createname(self,user):\n",
    "        self.user=user\n",
    "    def display(self):\n",
    "        return self.user\n",
    "    def greeting(self):\n",
    "        print(f\"Hello,welcome back {self.user.title()}\")"
   ]
  },
  {
   "cell_type": "code",
   "execution_count": 57,
   "metadata": {},
   "outputs": [],
   "source": [
    "cobj = Name()"
   ]
  },
  {
   "cell_type": "code",
   "execution_count": 58,
   "metadata": {},
   "outputs": [],
   "source": [
    "cobj.createname('akhil')"
   ]
  },
  {
   "cell_type": "code",
   "execution_count": 59,
   "metadata": {},
   "outputs": [
    {
     "data": {
      "text/plain": [
       "'akhil'"
      ]
     },
     "execution_count": 59,
     "metadata": {},
     "output_type": "execute_result"
    }
   ],
   "source": [
    "cobj.display()"
   ]
  },
  {
   "cell_type": "code",
   "execution_count": 60,
   "metadata": {},
   "outputs": [
    {
     "name": "stdout",
     "output_type": "stream",
     "text": [
      "Hello,welcome back Akhil\n"
     ]
    }
   ],
   "source": [
    "cobj.greeting()"
   ]
  },
  {
   "cell_type": "code",
   "execution_count": null,
   "metadata": {},
   "outputs": [],
   "source": []
  }
 ],
 "metadata": {
  "kernelspec": {
   "display_name": "Python 3",
   "language": "python",
   "name": "python3"
  },
  "language_info": {
   "codemirror_mode": {
    "name": "ipython",
    "version": 3
   },
   "file_extension": ".py",
   "mimetype": "text/x-python",
   "name": "python",
   "nbconvert_exporter": "python",
   "pygments_lexer": "ipython3",
   "version": "3.7.4"
  }
 },
 "nbformat": 4,
 "nbformat_minor": 2
}
