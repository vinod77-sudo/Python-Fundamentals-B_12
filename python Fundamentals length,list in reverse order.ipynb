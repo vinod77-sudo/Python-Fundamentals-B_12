{
 "cells": [
  {
   "cell_type": "code",
   "execution_count": 2,
   "metadata": {},
   "outputs": [
    {
     "name": "stdout",
     "output_type": "stream",
     "text": [
      "Day 5 session!\n"
     ]
    }
   ],
   "source": [
    "print(\"Day 5 session!\")"
   ]
  },
  {
   "cell_type": "code",
   "execution_count": 3,
   "metadata": {},
   "outputs": [
    {
     "name": "stdout",
     "output_type": "stream",
     "text": [
      "The Zen of Python, by Tim Peters\n",
      "\n",
      "Beautiful is better than ugly.\n",
      "Explicit is better than implicit.\n",
      "Simple is better than complex.\n",
      "Complex is better than complicated.\n",
      "Flat is better than nested.\n",
      "Sparse is better than dense.\n",
      "Readability counts.\n",
      "Special cases aren't special enough to break the rules.\n",
      "Although practicality beats purity.\n",
      "Errors should never pass silently.\n",
      "Unless explicitly silenced.\n",
      "In the face of ambiguity, refuse the temptation to guess.\n",
      "There should be one-- and preferably only one --obvious way to do it.\n",
      "Although that way may not be obvious at first unless you're Dutch.\n",
      "Now is better than never.\n",
      "Although never is often better than *right* now.\n",
      "If the implementation is hard to explain, it's a bad idea.\n",
      "If the implementation is easy to explain, it may be a good idea.\n",
      "Namespaces are one honking great idea -- let's do more of those!\n"
     ]
    }
   ],
   "source": [
    "import this"
   ]
  },
  {
   "cell_type": "code",
   "execution_count": 4,
   "metadata": {},
   "outputs": [
    {
     "name": "stdout",
     "output_type": "stream",
     "text": [
      "['vinod', 'divya', 'geetha', 'shyam', 'tagore', 'rathan']\n"
     ]
    }
   ],
   "source": [
    "my_students = ['vinod','divya','geetha','shyam','tagore','rathan']\n",
    "\n",
    "print(my_students)"
   ]
  },
  {
   "cell_type": "code",
   "execution_count": 7,
   "metadata": {},
   "outputs": [
    {
     "name": "stdout",
     "output_type": "stream",
     "text": [
      "['rathan', 'tagore', 'shyam', 'geetha', 'divya', 'vinod']\n"
     ]
    }
   ],
   "source": [
    "my_students.reverse()  # print the list in reverse order \n",
    "\n",
    "print(my_students)"
   ]
  },
  {
   "cell_type": "code",
   "execution_count": 8,
   "metadata": {},
   "outputs": [
    {
     "name": "stdout",
     "output_type": "stream",
     "text": [
      "['divya', 'geetha', 'rathan', 'shyam', 'tagore', 'vinod']\n"
     ]
    }
   ],
   "source": [
    " print(sorted(my_students))   # print the sorted list of students"
   ]
  },
  {
   "cell_type": "code",
   "execution_count": 9,
   "metadata": {},
   "outputs": [
    {
     "name": "stdout",
     "output_type": "stream",
     "text": [
      "['akhil', 'vamsi', 'uday', 'trinath', 'santhosh', 'prashanth']\n"
     ]
    }
   ],
   "source": [
    "# introduction to for loop\n",
    "\n",
    "students = ['akhil','vamsi','uday','trinath','santhosh','prashanth']\n",
    "print(students)"
   ]
  },
  {
   "cell_type": "code",
   "execution_count": 12,
   "metadata": {},
   "outputs": [
    {
     "name": "stdout",
     "output_type": "stream",
     "text": [
      "akhil\n",
      "vamsi\n",
      "uday\n",
      "trinath\n",
      "santhosh\n",
      "prashanth\n"
     ]
    }
   ],
   "source": [
    "for a in students:   # elements in a loop \n",
    "    \n",
    "    print(a)"
   ]
  },
  {
   "cell_type": "code",
   "execution_count": 13,
   "metadata": {},
   "outputs": [
    {
     "data": {
      "text/plain": [
       "6"
      ]
     },
     "execution_count": 13,
     "metadata": {},
     "output_type": "execute_result"
    }
   ],
   "source": [
    "# count the elements in list\n",
    "\n",
    "len(students)"
   ]
  },
  {
   "cell_type": "code",
   "execution_count": 14,
   "metadata": {},
   "outputs": [
    {
     "name": "stdout",
     "output_type": "stream",
     "text": [
      "Akhil\n",
      "Vamsi\n",
      "Uday\n",
      "Trinath\n",
      "Santhosh\n",
      "Prashanth\n"
     ]
    }
   ],
   "source": [
    "for s in students:   # print them in title case\n",
    "    \n",
    "    print(s.title())"
   ]
  },
  {
   "cell_type": "code",
   "execution_count": null,
   "metadata": {},
   "outputs": [],
   "source": []
  }
 ],
 "metadata": {
  "kernelspec": {
   "display_name": "Python 3",
   "language": "python",
   "name": "python3"
  },
  "language_info": {
   "codemirror_mode": {
    "name": "ipython",
    "version": 3
   },
   "file_extension": ".py",
   "mimetype": "text/x-python",
   "name": "python",
   "nbconvert_exporter": "python",
   "pygments_lexer": "ipython3",
   "version": "3.7.4"
  }
 },
 "nbformat": 4,
 "nbformat_minor": 2
}
